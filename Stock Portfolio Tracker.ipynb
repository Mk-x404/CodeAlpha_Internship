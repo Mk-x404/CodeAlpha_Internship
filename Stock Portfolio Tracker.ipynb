{
 "cells": [
  {
   "cell_type": "code",
   "execution_count": null,
   "id": "e24725d7",
   "metadata": {},
   "outputs": [
    {
     "name": "stdout",
     "output_type": "stream",
     "text": [
      "Available Stocks and Prices:\n",
      "AAPL: $180\n",
      "TSLA: $250\n",
      "GOOGL: $2800\n",
      "AMZN: $3300\n",
      "MSFT: $300\n",
      "\n",
      "\n"
     ]
    }
   ],
   "source": [
    "# Stock Portfolio Tracker - Alpha Internship Task 2\n",
    "\n",
    "#  Define stock prices (hardcoded)\n",
    "stock_prices = {\n",
    "    \"AAPL\": 180,\n",
    "    \"TSLA\": 250,\n",
    "    \"GOOGL\": 2800,\n",
    "    \"AMZN\": 3300,\n",
    "    \"MSFT\": 300\n",
    "}\n",
    "\n",
    "# Display available stocks and their prices\n",
    "print(\"Available Stocks and Prices:\")\n",
    "for stock, price in stock_prices.items():\n",
    "    print(f\"{stock}: ${price}\")\n",
    "print(\"\\n\")  # blank line for spacing\n",
    "\n",
    "# Take user input for stocks and quantities\n",
    "portfolio = {}\n",
    "while True:\n",
    "    stock = input(\"Enter stock symbol (or 'done' to finish): \").upper()\n",
    "    if stock == \"DONE\":\n",
    "        break\n",
    "    if stock not in stock_prices:\n",
    "        print(\"Stock not available. Try again.\")\n",
    "        continue\n",
    "    try:\n",
    "        quantity = int(input(f\"Enter quantity of {stock}: \"))\n",
    "        if quantity <= 0:\n",
    "            print(\"Quantity must be positive.\")\n",
    "            continue\n",
    "        portfolio[stock] = quantity\n",
    "    except ValueError:\n",
    "        print(\"Invalid input. Enter a number.\")\n",
    "        continue\n",
    "\n",
    "# Calculate total investment\n",
    "total_investment = 0\n",
    "print(\"\\nYour Portfolio:\")\n",
    "for stock, qty in portfolio.items():\n",
    "    investment = stock_prices[stock] * qty\n",
    "    print(f\"{stock}: {qty} shares x ${stock_prices[stock]} = ${investment}\")\n",
    "    total_investment += investment\n",
    "\n",
    "print(f\"\\nTotal Investment Value: ${total_investment}\")\n",
    "\n",
    "# Save result to a file\n",
    "save = input(\"Do you want to save the portfolio to a file? (yes/no): \").lower()\n",
    "if save == \"yes\":\n",
    "    filename = \"portfolio.txt\"\n",
    "    with open(filename, \"w\") as f:\n",
    "        f.write(\"Stock Portfolio Tracker\\n\")\n",
    "        f.write(\"======================\\n\")\n",
    "        for stock, qty in portfolio.items():\n",
    "            f.write(f\"{stock}: {qty} shares x ${stock_prices[stock]} = ${stock_prices[stock]*qty}\\n\")\n",
    "        f.write(f\"\\nTotal Investment Value: ${total_investment}\\n\")\n",
    "    print(f\"Portfolio saved to {filename}\")\n"
   ]
  },
  {
   "cell_type": "code",
   "execution_count": null,
   "id": "90a0dba1",
   "metadata": {},
   "outputs": [],
   "source": []
  }
 ],
 "metadata": {
  "kernelspec": {
   "display_name": "myenv",
   "language": "python",
   "name": "python3"
  },
  "language_info": {
   "codemirror_mode": {
    "name": "ipython",
    "version": 3
   },
   "file_extension": ".py",
   "mimetype": "text/x-python",
   "name": "python",
   "nbconvert_exporter": "python",
   "pygments_lexer": "ipython3",
   "version": "3.11.13"
  }
 },
 "nbformat": 4,
 "nbformat_minor": 5
}
